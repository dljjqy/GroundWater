{
 "cells": [
  {
   "cell_type": "code",
   "execution_count": 1,
   "id": "d3c10ae5",
   "metadata": {},
   "outputs": [
    {
     "data": {
      "text/html": [
       "<style>.container { width:100% !important; }</style>"
      ],
      "text/plain": [
       "<IPython.core.display.HTML object>"
      ]
     },
     "metadata": {},
     "output_type": "display_data"
    }
   ],
   "source": [
    "'''\n",
    "This note is about some traditional pde algorithm i want to implement.\n",
    "1.Finite difference\n",
    "2.Finite volume\n",
    "3.Finite element\n",
    "About the pde,the laplace equation used for example.\n",
    "    Lap u = -f, in Domain\n",
    "    u = g = 1 on partial domain\n",
    "    \n",
    "    f = 2(2pi)**2sin(2pix)sin(2piy)\n",
    "    u = sin(spix)sin(spiy) + 1\n",
    "'''\n",
    "from IPython.display import display, HTML\n",
    "display(HTML(\"<style>.container { width:100% !important; }</style>\"))\n",
    "import numpy as np\n",
    "import torch\n",
    "from scipy import sparse\n",
    "from scipy.sparse.linalg import spsolve\n",
    "# 1.We first declare a zero matrix perpareing for generate the stiff matrix\n",
    "f = lambda x,y: 8*np.pi**2*np.sin(2*np.pi*x)*np.sin(2*np.pi*y) \n",
    "u = lambda x,y: np.sin(2*np.pi*x)*np.sin(2*np.pi*y) \n",
    "\n",
    "def mean_L2(pre, ans):\n",
    "    pre = pre.flatten()\n",
    "    ans = ans.flatten()\n",
    "    diff = (pre - ans)**2\n",
    "    diff = np.sqrt(diff.sum())\n",
    "    return diff/len(pre)\n",
    "\n",
    "def np2torch(A):\n",
    "    values = A.data\n",
    "    indices = np.vstack((A.row, A.col))\n",
    "    \n",
    "    i = torch.LongTensor(indices)\n",
    "    v = torch.FloatTensor(values)\n",
    "    shape = A.shape\n",
    "    return torch.sparse.FloatTensor(i, v, torch.Size(shape)).to(torch.float32)"
   ]
  },
  {
   "cell_type": "code",
   "execution_count": null,
   "id": "03ff4888",
   "metadata": {},
   "outputs": [],
   "source": [
    "# We need to know the size of this matrix.So we compute that firstly.\n",
    "left = 0\n",
    "right = 1\n",
    "bottom = 0\n",
    "top = 1\n",
    "\n",
    "# Here we only consider the uniform mesh\n",
    "dx = 0.1\n",
    "dy = 0.1\n",
    "Nx = round((right - left)/dx) + 1\n",
    "Ny = round((top - bottom)/dy) + 1\n",
    "x = np.linspace(left, right, Nx)\n",
    "y = np.linspace(bottom, top, Ny)\n",
    "xx, yy = np.meshgrid(x, y)\n",
    "# we are facing a mesh with size of Nx * Ny \n",
    "# That means we need a matrix A with size of (Nx * Ny)**2\n",
    "N = Nx * Ny\n",
    "A = np.zeros((N, N))\n",
    "b = np.zeros(N)\n",
    "# A = sparse.lil_matrix((N, N))\n",
    "# Assemble the stiffness matrix \n",
    "for i in range(Nx):\n",
    "    for j in range(Ny):\n",
    "        idx = i * Ny + j \n",
    "        if i == 0 or j == 0 or i==(Nx-1) or j==(Ny-1):\n",
    "            A[idx, idx] = 1\n",
    "            b[idx] = 0\n",
    "        else:\n",
    "            A[idx, idx] = -(2/dx**2 + 2/dy**2)\n",
    "            A[idx, idx-1] = 1/dx**2\n",
    "            A[idx, idx+1] = 1/dx**2\n",
    "            A[idx, (i-1)*Ny + j] = 1/dy**2\n",
    "            A[idx, (i+1)*Ny + j] = 1/dy**2            \n",
    "            \n",
    "            b[idx] = -f(x[i], y[j])\n",
    "pre = np.linalg.solve(A, b)\n",
    "ans = u(xx, yy)\n",
    "print(mean_L2(pre, ans))"
   ]
  },
  {
   "cell_type": "code",
   "execution_count": null,
   "id": "3a5b4bbd",
   "metadata": {},
   "outputs": [],
   "source": [
    "def finite_diff_solver(f, dx, dy, left, right, bottom, top):\n",
    "    Nx = round((right - left)/dx) + 1\n",
    "    Ny = round((top - bottom)/dy) + 1\n",
    "    N = Nx * Ny\n",
    "    A = sparse.lil_matrix((N, N))\n",
    "    b = np.zeros(N)\n",
    "    \n",
    "    for i in range(Nx):\n",
    "        for j in range(Ny):\n",
    "            idx = i * Ny + j\n",
    "            if i == 0 or j == 0 or i==(Nx-1) or j==(Ny-1):\n",
    "                A[idx, idx] = 1\n",
    "                b[idx] = 0\n",
    "            else:\n",
    "                A[idx, idx] += (2/dx**2 + 2/dy**2)\n",
    "                A[idx, idx-1] = -1/dy**2\n",
    "                A[idx, idx+1] = -1/dy**2\n",
    "                A[idx, (i-1)*Ny + j] = -1/dx**2\n",
    "                A[idx, (i+1)*Ny + j] = -1/dx**2            \n",
    "\n",
    "                x = left + j * dx\n",
    "                y = bottom + i * dy\n",
    "                b[idx] = f(x, y)\n",
    "    A = A.tocsr()\n",
    "    pre = spsolve(A, b)\n",
    "    return pre\n",
    "\n",
    "pre = finite_diff_solver(f, dx, dy, left, right, bottom, top)\n",
    "print(mean_L2(pre, ans))"
   ]
  },
  {
   "cell_type": "code",
   "execution_count": 23,
   "id": "8b5506ea",
   "metadata": {},
   "outputs": [
    {
     "data": {
      "text/plain": [
       "True"
      ]
     },
     "execution_count": 23,
     "metadata": {},
     "output_type": "execute_result"
    }
   ],
   "source": [
    "def assmble(a, h, f, name_A, name_b):\n",
    "    n = round(a/h) + 1\n",
    "    N = n**2\n",
    "    A = sparse.lil_matrix((N, N))\n",
    "    b = np.zeros(N)\n",
    "    \n",
    "    for i in range(n):\n",
    "        for j in range(n):\n",
    "            idx = i * n + j\n",
    "            if i==0 or j==0 or i==(n-1) or j==(n-1):\n",
    "                A[idx, idx] = 1\n",
    "                b[idx] = 0\n",
    "            else:\n",
    "                A[idx, idx] = -4/h**2\n",
    "                A[idx, idx-1] = 1/h**2\n",
    "                A[idx, idx+1] = 1/h**2\n",
    "                A[idx, (i-1)*n + j] = 1/h**2\n",
    "                A[idx, (i+1)*n + j] = 1/h**2            \n",
    "\n",
    "                b[idx] = -f(i*h, j*h)\n",
    "    A = A.tocoo()    \n",
    "    sparse.save_npz(name_A, A)\n",
    "    np.save(name_b, b)\n",
    "    return True\n",
    "    \n",
    "assmble(1, 0.002, f, 'A', 'b')\n",
    "# print(mean_L2(pre, ans))"
   ]
  },
  {
   "cell_type": "code",
   "execution_count": null,
   "id": "591c2bc8",
   "metadata": {},
   "outputs": [],
   "source": []
  }
 ],
 "metadata": {
  "kernelspec": {
   "display_name": "Python 3 (ipykernel)",
   "language": "python",
   "name": "python3"
  },
  "language_info": {
   "codemirror_mode": {
    "name": "ipython",
    "version": 3
   },
   "file_extension": ".py",
   "mimetype": "text/x-python",
   "name": "python",
   "nbconvert_exporter": "python",
   "pygments_lexer": "ipython3",
   "version": "3.9.12"
  }
 },
 "nbformat": 4,
 "nbformat_minor": 5
}
